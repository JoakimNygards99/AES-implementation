{
 "cells": [
  {
   "cell_type": "code",
   "execution_count": 20,
   "metadata": {},
   "outputs": [
    {
     "name": "stdout",
     "output_type": "stream",
     "text": [
      "[0, 1, 2, 3, 4, 5, 6, 7, 8, 9, 10, 11, 12, 13, 14, 15, 16, 17, 18, 19, 20, 21, 22, 23, 24, 25, 26, 27, 28, 29, 30, 31]\n"
     ]
    }
   ],
   "source": [
    "def getKey(filename):\n",
    "    f = open(filename)\n",
    "\n",
    "    line = f.read()\n",
    "\n",
    "    n = 2\n",
    "\n",
    "    key = [line[i:i+n] for i in range(0, len(line), n)]\n",
    "\n",
    "    for i in range(0,len(key)):\n",
    "        key[i] = int(key[i], 16)\n",
    "        \n",
    "    return key\n",
    "    \n",
    "key = getKey(\"testKey\")\n",
    "\n",
    "print(key)"
   ]
  },
  {
   "cell_type": "code",
   "execution_count": 21,
   "metadata": {},
   "outputs": [
    {
     "name": "stdout",
     "output_type": "stream",
     "text": [
      "[0, 17, 34, 51, 68, 85, 102, 119, 136, 153, 170, 187, 204, 221, 238, 255]\n"
     ]
    }
   ],
   "source": [
    "def getBlock(filename):\n",
    "    f = open(filename)\n",
    "\n",
    "    line = f.read()\n",
    "\n",
    "    n = 2\n",
    "\n",
    "    block = [line[i:i+n] for i in range(0, len(line), n)]\n",
    "\n",
    "    for i in range(0,len(block)):\n",
    "        block[i] = int(block[i], 16)\n",
    "        \n",
    "    return block\n",
    "    \n",
    "block = getBlock(\"testBlock\")\n",
    "\n",
    "print(block)"
   ]
  },
  {
   "cell_type": "code",
   "execution_count": 22,
   "metadata": {},
   "outputs": [
    {
     "name": "stdout",
     "output_type": "stream",
     "text": [
      "99\n",
      "82\n",
      "141\n"
     ]
    }
   ],
   "source": [
    "sbox = [\n",
    "        0x63, 0x7c, 0x77, 0x7b, 0xf2, 0x6b, 0x6f, 0xc5, 0x30, 0x01, 0x67, 0x2b, 0xfe, 0xd7, 0xab, 0x76,\n",
    "        0xca, 0x82, 0xc9, 0x7d, 0xfa, 0x59, 0x47, 0xf0, 0xad, 0xd4, 0xa2, 0xaf, 0x9c, 0xa4, 0x72, 0xc0,\n",
    "        0xb7, 0xfd, 0x93, 0x26, 0x36, 0x3f, 0xf7, 0xcc, 0x34, 0xa5, 0xe5, 0xf1, 0x71, 0xd8, 0x31, 0x15,\n",
    "        0x04, 0xc7, 0x23, 0xc3, 0x18, 0x96, 0x05, 0x9a, 0x07, 0x12, 0x80, 0xe2, 0xeb, 0x27, 0xb2, 0x75,\n",
    "        0x09, 0x83, 0x2c, 0x1a, 0x1b, 0x6e, 0x5a, 0xa0, 0x52, 0x3b, 0xd6, 0xb3, 0x29, 0xe3, 0x2f, 0x84,\n",
    "        0x53, 0xd1, 0x00, 0xed, 0x20, 0xfc, 0xb1, 0x5b, 0x6a, 0xcb, 0xbe, 0x39, 0x4a, 0x4c, 0x58, 0xcf,\n",
    "        0xd0, 0xef, 0xaa, 0xfb, 0x43, 0x4d, 0x33, 0x85, 0x45, 0xf9, 0x02, 0x7f, 0x50, 0x3c, 0x9f, 0xa8,\n",
    "        0x51, 0xa3, 0x40, 0x8f, 0x92, 0x9d, 0x38, 0xf5, 0xbc, 0xb6, 0xda, 0x21, 0x10, 0xff, 0xf3, 0xd2,\n",
    "        0xcd, 0x0c, 0x13, 0xec, 0x5f, 0x97, 0x44, 0x17, 0xc4, 0xa7, 0x7e, 0x3d, 0x64, 0x5d, 0x19, 0x73,\n",
    "        0x60, 0x81, 0x4f, 0xdc, 0x22, 0x2a, 0x90, 0x88, 0x46, 0xee, 0xb8, 0x14, 0xde, 0x5e, 0x0b, 0xdb,\n",
    "        0xe0, 0x32, 0x3a, 0x0a, 0x49, 0x06, 0x24, 0x5c, 0xc2, 0xd3, 0xac, 0x62, 0x91, 0x95, 0xe4, 0x79,\n",
    "        0xe7, 0xc8, 0x37, 0x6d, 0x8d, 0xd5, 0x4e, 0xa9, 0x6c, 0x56, 0xf4, 0xea, 0x65, 0x7a, 0xae, 0x08,\n",
    "        0xba, 0x78, 0x25, 0x2e, 0x1c, 0xa6, 0xb4, 0xc6, 0xe8, 0xdd, 0x74, 0x1f, 0x4b, 0xbd, 0x8b, 0x8a,\n",
    "        0x70, 0x3e, 0xb5, 0x66, 0x48, 0x03, 0xf6, 0x0e, 0x61, 0x35, 0x57, 0xb9, 0x86, 0xc1, 0x1d, 0x9e,\n",
    "        0xe1, 0xf8, 0x98, 0x11, 0x69, 0xd9, 0x8e, 0x94, 0x9b, 0x1e, 0x87, 0xe9, 0xce, 0x55, 0x28, 0xdf,\n",
    "        0x8c, 0xa1, 0x89, 0x0d, 0xbf, 0xe6, 0x42, 0x68, 0x41, 0x99, 0x2d, 0x0f, 0xb0, 0x54, 0xbb, 0x16\n",
    "]\n",
    "\n",
    "\n",
    "sboxInv = [\n",
    "        0x52, 0x09, 0x6a, 0xd5, 0x30, 0x36, 0xa5, 0x38, 0xbf, 0x40, 0xa3, 0x9e, 0x81, 0xf3, 0xd7, 0xfb,\n",
    "        0x7c, 0xe3, 0x39, 0x82, 0x9b, 0x2f, 0xff, 0x87, 0x34, 0x8e, 0x43, 0x44, 0xc4, 0xde, 0xe9, 0xcb,\n",
    "        0x54, 0x7b, 0x94, 0x32, 0xa6, 0xc2, 0x23, 0x3d, 0xee, 0x4c, 0x95, 0x0b, 0x42, 0xfa, 0xc3, 0x4e,\n",
    "        0x08, 0x2e, 0xa1, 0x66, 0x28, 0xd9, 0x24, 0xb2, 0x76, 0x5b, 0xa2, 0x49, 0x6d, 0x8b, 0xd1, 0x25,\n",
    "        0x72, 0xf8, 0xf6, 0x64, 0x86, 0x68, 0x98, 0x16, 0xd4, 0xa4, 0x5c, 0xcc, 0x5d, 0x65, 0xb6, 0x92,\n",
    "        0x6c, 0x70, 0x48, 0x50, 0xfd, 0xed, 0xb9, 0xda, 0x5e, 0x15, 0x46, 0x57, 0xa7, 0x8d, 0x9d, 0x84,\n",
    "        0x90, 0xd8, 0xab, 0x00, 0x8c, 0xbc, 0xd3, 0x0a, 0xf7, 0xe4, 0x58, 0x05, 0xb8, 0xb3, 0x45, 0x06,\n",
    "        0xd0, 0x2c, 0x1e, 0x8f, 0xca, 0x3f, 0x0f, 0x02, 0xc1, 0xaf, 0xbd, 0x03, 0x01, 0x13, 0x8a, 0x6b,\n",
    "        0x3a, 0x91, 0x11, 0x41, 0x4f, 0x67, 0xdc, 0xea, 0x97, 0xf2, 0xcf, 0xce, 0xf0, 0xb4, 0xe6, 0x73,\n",
    "        0x96, 0xac, 0x74, 0x22, 0xe7, 0xad, 0x35, 0x85, 0xe2, 0xf9, 0x37, 0xe8, 0x1c, 0x75, 0xdf, 0x6e,\n",
    "        0x47, 0xf1, 0x1a, 0x71, 0x1d, 0x29, 0xc5, 0x89, 0x6f, 0xb7, 0x62, 0x0e, 0xaa, 0x18, 0xbe, 0x1b,\n",
    "        0xfc, 0x56, 0x3e, 0x4b, 0xc6, 0xd2, 0x79, 0x20, 0x9a, 0xdb, 0xc0, 0xfe, 0x78, 0xcd, 0x5a, 0xf4,\n",
    "        0x1f, 0xdd, 0xa8, 0x33, 0x88, 0x07, 0xc7, 0x31, 0xb1, 0x12, 0x10, 0x59, 0x27, 0x80, 0xec, 0x5f,\n",
    "        0x60, 0x51, 0x7f, 0xa9, 0x19, 0xb5, 0x4a, 0x0d, 0x2d, 0xe5, 0x7a, 0x9f, 0x93, 0xc9, 0x9c, 0xef,\n",
    "        0xa0, 0xe0, 0x3b, 0x4d, 0xae, 0x2a, 0xf5, 0xb0, 0xc8, 0xeb, 0xbb, 0x3c, 0x83, 0x53, 0x99, 0x61,\n",
    "        0x17, 0x2b, 0x04, 0x7e, 0xba, 0x77, 0xd6, 0x26, 0xe1, 0x69, 0x14, 0x63, 0x55, 0x21, 0x0c, 0x7d\n",
    "]\n",
    "\n",
    "\n",
    "rcon = ( 0x8d, 0x01, 0x02, 0x04, 0x08, 0x10, 0x20, 0x40, 0x80, 0x1b, 0x36, 0x6c, 0xd8, 0xab, 0x4d, 0x9a )\n",
    "\n",
    "print(sbox[0])\n",
    "print(sboxInv[0])\n",
    "print(rcon[0])"
   ]
  },
  {
   "cell_type": "code",
   "execution_count": 23,
   "metadata": {},
   "outputs": [
    {
     "data": {
      "text/plain": [
       "[0, 68, 136, 204, 17, 85, 153, 221, 34, 102, 170, 238, 51, 119, 187, 255]"
      ]
     },
     "execution_count": 23,
     "metadata": {},
     "output_type": "execute_result"
    }
   ],
   "source": [
    "block = getBlock(\"testBlock\")\n",
    " \n",
    "def correct_order(block):\n",
    "    num_columns = 4 \n",
    "    rearranged_2d_list = []\n",
    "\n",
    "    for col in range(num_columns):\n",
    "        column = block[col::num_columns]\n",
    "        rearranged_2d_list.append(column)\n",
    "\n",
    "    rearranged_list = [item for sublist in rearranged_2d_list for item in sublist]\n",
    "\n",
    "    return rearranged_list\n",
    "\n",
    "\n",
    "def false_order(block):\n",
    "    num_rows = len(block) // 4\n",
    "\n",
    "    original_list = []\n",
    "\n",
    "    for row in range(num_rows):\n",
    "        for col in range(4):\n",
    "            index = col * num_rows + row\n",
    "            original_list.append(block[index])\n",
    "\n",
    "    return original_list\n",
    "\n",
    "correct_order(block)"
   ]
  },
  {
   "cell_type": "code",
   "execution_count": 24,
   "metadata": {},
   "outputs": [
    {
     "name": "stdout",
     "output_type": "stream",
     "text": [
      "[0, 85, 170, 255, 68, 153, 238, 51, 136, 221, 34, 119, 204, 17, 102, 187]\n"
     ]
    }
   ],
   "source": [
    "block = getBlock(\"testBlock\")\n",
    "\n",
    "def shift_rows(block):\n",
    "    #correct order to simplify\n",
    "    blocks = correct_order(block)\n",
    "\n",
    "    #splitting list into 4 parts\n",
    "    part_length = len(blocks) // 4\n",
    "    chunks = [blocks[i:i+part_length] for i in range(0, len(blocks), part_length)]\n",
    "\n",
    "    #first swap\n",
    "    chunks[1] = chunks[1][1:] + [chunks[1][0]]\n",
    "\n",
    "    #second swap\n",
    "    chunks[2] = chunks[2][2:] + chunks[2][:2]\n",
    "\n",
    "    #third swap\n",
    "    chunks[3] = [chunks[3][-1]] + chunks[3][:-1]\n",
    "\n",
    "    shift_list = []\n",
    "    for x in chunks:\n",
    "        for y in x:\n",
    "            shift_list.append(y)\n",
    "\n",
    "    #going back to original order\n",
    "    shift_list = false_order(shift_list)\n",
    "\n",
    "    return shift_list\n",
    "                    \n",
    "            \n",
    "test = shift_rows(block)\n",
    "print(test)"
   ]
  },
  {
   "cell_type": "code",
   "execution_count": 25,
   "metadata": {},
   "outputs": [
    {
     "name": "stdout",
     "output_type": "stream",
     "text": [
      "Encrypted\n",
      "[0, 85, 170, 255, 68, 153, 238, 51, 136, 221, 34, 119, 204, 17, 102, 187]\n",
      "-------------------------------------------------------------------------\n",
      "Decrypted\n",
      "[0, 17, 34, 51, 68, 85, 102, 119, 136, 153, 170, 187, 204, 221, 238, 255]\n"
     ]
    }
   ],
   "source": [
    "def shift_rows_inv(block):\n",
    "    #correct order to simplify\n",
    "    blocks = correct_order(block)\n",
    "\n",
    "    #splitting list into 4 parts\n",
    "    part_length = len(blocks) // 4\n",
    "    chunks = [blocks[i:i+part_length] for i in range(0, len(blocks), part_length)]\n",
    "   \n",
    "\n",
    "    #first swap\n",
    "    chunks[1] = [chunks[1][-1]] + chunks[1][:-1]\n",
    "\n",
    "    #second swap\n",
    "    chunks[2] = chunks[2][2:] + chunks[2][:2]\n",
    "\n",
    "    #third swap\n",
    "    chunks[3] = chunks[3][1:] + [chunks[3][0]]\n",
    "\n",
    "    shift_list = []\n",
    "    for x in chunks:\n",
    "        for y in x:\n",
    "            shift_list.append(y)\n",
    "\n",
    "    #going back to original order\n",
    "    shift_list = false_order(shift_list)\n",
    "\n",
    "    return shift_list\n",
    "    \n",
    "\n",
    "\n",
    "block = getBlock(\"testBlock\")\n",
    "\n",
    "encrypt = shift_rows(block)\n",
    "\n",
    "test_inv = shift_rows_inv(encrypt)\n",
    "\n",
    "print(\"Encrypted\")\n",
    "print(encrypt)\n",
    "\n",
    "print(\"-------------------------------------------------------------------------\")\n",
    "\n",
    "print(\"Decrypted\")\n",
    "print(test_inv)"
   ]
  },
  {
   "cell_type": "code",
   "execution_count": 26,
   "metadata": {},
   "outputs": [],
   "source": [
    "def galoisMult(a, b):\n",
    "    p = 0\n",
    "    hiBitSet = 0\n",
    "    for i in range(8):\n",
    "        if b & 1 == 1:\n",
    "            p ^= a\n",
    "        hiBitSet = a & 0x80\n",
    "        a <<= 1\n",
    "        if hiBitSet == 0x80:\n",
    "            a ^= 0x1b\n",
    "        b >>= 1\n",
    "    return p % 256"
   ]
  },
  {
   "cell_type": "code",
   "execution_count": 27,
   "metadata": {},
   "outputs": [],
   "source": [
    "def mixColumns(block):\n",
    "    #MixColumn values\n",
    "    mixcolumnsvalues = [[2,3,1,1],[1,2,3,1],[1,1,2,3],[3,1,1,2]]\n",
    "\n",
    "    #Dividing the block into smaller pieces\n",
    "    chunk_size = len(block) // 4\n",
    "    inputblocks = [block[i:i+chunk_size] for i in range(0, len(block), chunk_size)]\n",
    "\n",
    "    temp = []\n",
    "    newlist = []\n",
    "    for y in range(0,4,1):\n",
    "        for x in range(0,4,1):\n",
    "            #print(\"----\")\n",
    "            for i in range(0,4,1):\n",
    "                #print(f\"{mixcolumnsvalues[x][i]} {inputblocks[y][i]}\")\n",
    "                temp.append(galoisMult(inputblocks[y][i], mixcolumnsvalues[x][i]))\n",
    "\n",
    "            newlist.append(temp[0] ^ temp[1] ^ temp[2] ^ temp[3])\n",
    "            temp = []\n",
    "           \n",
    "\n",
    "    return newlist"
   ]
  },
  {
   "cell_type": "code",
   "execution_count": 28,
   "metadata": {},
   "outputs": [],
   "source": [
    "def mixColumnsInv(block):\n",
    "    #MixColumn values\n",
    "    mixcolumnsvalues = [[14,11,13,9],[9,14,11,13],[13,9,14,11],[11,13,9,14]]\n",
    "\n",
    "    #Dividing the block into smaller pieces\n",
    "    chunk_size = len(block) // 4\n",
    "    inputblocks = [block[i:i+chunk_size] for i in range(0, len(block), chunk_size)]\n",
    "\n",
    "    temp = []\n",
    "    newlist = []\n",
    "    for y in range(0,4,1):\n",
    "        for x in range(0,4,1):\n",
    "            #print(\"----\")\n",
    "            for i in range(0,4,1):\n",
    "                #print(f\"{mixcolumnsvalues[x][i]} {inputblocks[y][i]}\")\n",
    "                temp.append(galoisMult(inputblocks[y][i], mixcolumnsvalues[x][i]))\n",
    "\n",
    "            newlist.append(temp[0] ^ temp[1] ^ temp[2] ^ temp[3])\n",
    "            temp = []\n",
    "    return newlist"
   ]
  },
  {
   "cell_type": "code",
   "execution_count": 29,
   "metadata": {},
   "outputs": [
    {
     "name": "stdout",
     "output_type": "stream",
     "text": [
      "[0, 17, 34, 51, 68, 85, 102, 119, 136, 153, 170, 187, 204, 221, 238, 255]\n",
      "[34, 119, 0, 85, 102, 51, 68, 17, 170, 255, 136, 221, 238, 187, 204, 153]\n",
      "[0, 17, 34, 51, 68, 85, 102, 119, 136, 153, 170, 187, 204, 221, 238, 255]\n"
     ]
    }
   ],
   "source": [
    "testBlock = getBlock(\"testBlock\")\n",
    "\n",
    "print(testBlock)\n",
    "\n",
    "mixedBlock = mixColumns(testBlock)\n",
    "\n",
    "print(mixedBlock)\n",
    "\n",
    "unMixedBlock = mixColumnsInv(mixedBlock)\n",
    "\n",
    "print(unMixedBlock)"
   ]
  },
  {
   "cell_type": "code",
   "execution_count": 30,
   "metadata": {},
   "outputs": [],
   "source": [
    "def subBytes(block):\n",
    "    newlist = []\n",
    "    for x in block:\n",
    "        newlist.append(sbox[x])\n",
    "\n",
    "    return newlist\n",
    "\n",
    "def subBytesInv(block):\n",
    "    newlist = []\n",
    "    for x in block:\n",
    "        newlist.append(sboxInv[x])\n",
    "\n",
    "    return newlist"
   ]
  },
  {
   "cell_type": "code",
   "execution_count": 31,
   "metadata": {},
   "outputs": [
    {
     "name": "stdout",
     "output_type": "stream",
     "text": [
      "[0, 17, 34, 51, 68, 85, 102, 119, 136, 153, 170, 187, 204, 221, 238, 255]\n",
      "[99, 130, 147, 195, 27, 252, 51, 245, 196, 238, 172, 234, 75, 193, 40, 22]\n",
      "[0, 17, 34, 51, 68, 85, 102, 119, 136, 153, 170, 187, 204, 221, 238, 255]\n"
     ]
    }
   ],
   "source": [
    "testBlock = getBlock(\"testBlock\")\n",
    "\n",
    "print(testBlock)\n",
    "\n",
    "substitutedBlock = subBytes(testBlock)\n",
    "\n",
    "print(substitutedBlock)\n",
    "\n",
    "unSubstitutedBlock = subBytesInv(substitutedBlock)\n",
    "\n",
    "print(unSubstitutedBlock)"
   ]
  },
  {
   "cell_type": "code",
   "execution_count": 32,
   "metadata": {},
   "outputs": [
    {
     "name": "stdout",
     "output_type": "stream",
     "text": [
      "[1, 2, 3, 4]\n",
      "[118, 123, 242, 124]\n"
     ]
    }
   ],
   "source": [
    "def keyScheduleCore(word, n):\n",
    "    #rotate\n",
    "    word = word[1:] + [word[0]]\n",
    "\n",
    "    #sub\n",
    "    newlist = []\n",
    "    for x in word:\n",
    "        newlist.append(sbox[x])\n",
    "\n",
    "    #rcon\n",
    "    newlist[0] = newlist[0]^rcon[n]\n",
    "    \n",
    "    return newlist\n",
    "\n",
    "\n",
    "\n",
    "    \n",
    "word = [1,2,3,4]\n",
    "\n",
    "newWord = keyScheduleCore(word,1)\n",
    "\n",
    "print(word)\n",
    "print(newWord)"
   ]
  },
  {
   "cell_type": "code",
   "execution_count": 33,
   "metadata": {},
   "outputs": [
    {
     "name": "stdout",
     "output_type": "stream",
     "text": [
      "[0, 1, 2, 3, 4, 5, 6, 7, 8, 9, 10, 11, 12, 13, 14, 15, 16, 17, 18, 19, 20, 21, 22, 23, 24, 25, 26, 27, 28, 29, 30, 31]\n",
      "[0, 1, 2, 3, 4, 5, 6, 7, 8, 9, 10, 11, 12, 13, 14, 15, 16, 17, 18, 19, 20, 21, 22, 23, 24, 25, 26, 27, 28, 29, 30, 31, 165, 115, 194, 159, 161, 118, 196, 152, 169, 127, 206, 147, 165, 114, 192, 156, 22, 81, 168, 205, 2, 68, 190, 218, 26, 93, 164, 193, 6, 64, 186, 222, 174, 135, 223, 240, 15, 241, 27, 104, 166, 142, 213, 251, 3, 252, 21, 103, 109, 225, 241, 72, 111, 165, 79, 146, 117, 248, 235, 83, 115, 184, 81, 141, 198, 86, 130, 127, 201, 167, 153, 23, 111, 41, 76, 236, 108, 213, 89, 139, 61, 226, 58, 117, 82, 71, 117, 231, 39, 191, 158, 180, 84, 7, 207, 57, 11, 220, 144, 95, 194, 123, 9, 72, 173, 82, 69, 164, 193, 135, 28, 47, 69, 245, 166, 96, 23, 178, 211, 135, 48, 13, 77, 51, 100, 10, 130, 10, 124, 207, 247, 28, 190, 180, 254, 84, 19, 230, 187, 240, 210, 97, 167, 223, 240, 26, 250, 254, 231, 168, 41, 121, 215, 165, 100, 74, 179, 175, 230, 64, 37, 65, 254, 113, 155, 245, 0, 37, 136, 19, 187, 213, 90, 114, 28, 10, 78, 90, 102, 153, 169, 242, 79, 224, 126, 87, 43, 170, 205, 248, 205, 234, 36, 252, 121, 204, 191, 9, 121, 233, 55, 26, 194, 60, 109, 104, 222, 54]\n"
     ]
    }
   ],
   "source": [
    "key = getKey(\"testKey\")\n",
    "\n",
    "\n",
    "def expandKey(cipherKey):\n",
    "    cipherKeySize = len(cipherKey)\n",
    "    assert cipherKeySize == 32\n",
    "    expandedKey = []\n",
    "    currentSize,rconIter = 0,1\n",
    "\n",
    "    t = [0,0,0,0]\n",
    "\n",
    "    for i in range(cipherKeySize):\n",
    "        expandedKey.append(cipherKey[i])\n",
    "    currentSize += cipherKeySize\n",
    "\n",
    "    while currentSize < 240:\n",
    "        for i in range(4):\n",
    "            t[i] = expandedKey[(currentSize - 4) + i]\n",
    "        if currentSize % cipherKeySize == 0:\n",
    "            t = keyScheduleCore(t, rconIter)\n",
    "            rconIter += 1\n",
    "        if currentSize % cipherKeySize == 16:\n",
    "            for i in range(4):\n",
    "                t[i] = sbox[t[i]]\n",
    "        for i in range(4):\n",
    "            expandedKey.append(((expandedKey[currentSize - cipherKeySize]) ^ (t[i])))\n",
    "            currentSize += 1\n",
    "    return expandedKey \n",
    "\n",
    "test = expandKey(key)\n",
    "\n",
    "print(key)\n",
    "print(test)"
   ]
  },
  {
   "cell_type": "code",
   "execution_count": 34,
   "metadata": {},
   "outputs": [
    {
     "name": "stdout",
     "output_type": "stream",
     "text": [
      "[0, 1, 2, 3, 4, 5, 6, 7, 8, 9, 10, 11, 12, 13, 14, 15, 16, 17, 18, 19, 20, 21, 22, 23, 24, 25, 26, 27, 28, 29, 30, 31, 165, 115, 194, 159, 161, 118, 196, 152, 169, 127, 206, 147, 165, 114, 192, 156, 22, 81, 168, 205, 2, 68, 190, 218, 26, 93, 164, 193, 6, 64, 186, 222, 174, 135, 223, 240, 15, 241, 27, 104, 166, 142, 213, 251, 3, 252, 21, 103, 109, 225, 241, 72, 111, 165, 79, 146, 117, 248, 235, 83, 115, 184, 81, 141, 198, 86, 130, 127, 201, 167, 153, 23, 111, 41, 76, 236, 108, 213, 89, 139, 61, 226, 58, 117, 82, 71, 117, 231, 39, 191, 158, 180, 84, 7, 207, 57, 11, 220, 144, 95, 194, 123, 9, 72, 173, 82, 69, 164, 193, 135, 28, 47, 69, 245, 166, 96, 23, 178, 211, 135, 48, 13, 77, 51, 100, 10, 130, 10, 124, 207, 247, 28, 190, 180, 254, 84, 19, 230, 187, 240, 210, 97, 167, 223, 240, 26, 250, 254, 231, 168, 41, 121, 215, 165, 100, 74, 179, 175, 230, 64, 37, 65, 254, 113, 155, 245, 0, 37, 136, 19, 187, 213, 90, 114, 28, 10, 78, 90, 102, 153, 169, 242, 79, 224, 126, 87, 43, 170, 205, 248, 205, 234, 36, 252, 121, 204, 191, 9, 121, 233, 55, 26, 194, 60, 109, 104, 222, 54]\n",
      "\n",
      "[0, 1, 2, 3, 4, 5, 6, 7, 8, 9, 10, 11, 12, 13, 14, 15]\n",
      "[61, 226, 58, 117, 82, 71, 117, 231, 39, 191, 158, 180, 84, 7, 207, 57]\n",
      "[36, 252, 121, 204, 191, 9, 121, 233, 55, 26, 194, 60, 109, 104, 222, 54]\n"
     ]
    }
   ],
   "source": [
    "key = getKey(\"testKey\")\n",
    "\n",
    "def createRoundKey(expandedkey, round):\n",
    "    keydivided = len(expandedKey) // 15\n",
    "    split = [expandedKey[i:i+keydivided] for i in range(0, len(expandedKey), keydivided)]\n",
    "    return split[round]\n",
    "\n",
    "\n",
    "\n",
    "expandedKey = expandKey(key)\n",
    "\n",
    "roundKey0 = createRoundKey(expandedKey,0)\n",
    "\n",
    "roundKey7 = createRoundKey(expandedKey,7)\n",
    "\n",
    "roundKey14 = createRoundKey(expandedKey,14)\n",
    "\n",
    "print(expandedKey)\n",
    "\n",
    "print(\"\")\n",
    "\n",
    "print(roundKey0)\n",
    "\n",
    "print(roundKey7)\n",
    "\n",
    "print(roundKey14)"
   ]
  },
  {
   "cell_type": "code",
   "execution_count": 35,
   "metadata": {},
   "outputs": [
    {
     "name": "stdout",
     "output_type": "stream",
     "text": [
      "[0, 16, 32, 48, 64, 80, 96, 112, 128, 144, 160, 176, 192, 208, 224, 240]\n"
     ]
    }
   ],
   "source": [
    "def addRoundKey(block, roundKey):    \n",
    "        for x in range(len(block)):\n",
    "                block[x] = block[x] ^ roundKey[x]\n",
    "        return block     \n",
    "\n",
    "key = getKey(\"testKey\")\n",
    "\n",
    "testBlock = getBlock(\"testBlock\")\n",
    "\n",
    "expandedKey = expandKey(key)\n",
    "\n",
    "roundKey0 = createRoundKey(expandedKey,0)\n",
    "\n",
    "addedRoundKeyToBlock = addRoundKey(testBlock,roundKey0)\n",
    "\n",
    "print(addedRoundKeyToBlock)"
   ]
  },
  {
   "cell_type": "code",
   "execution_count": 36,
   "metadata": {},
   "outputs": [
    {
     "name": "stdout",
     "output_type": "stream",
     "text": [
      "[0, 17, 34, 51, 68, 85, 102, 119, 136, 153, 170, 187, 204, 221, 238, 255]\n",
      "[142, 162, 183, 202, 81, 103, 69, 191, 234, 252, 73, 144, 75, 73, 96, 137]\n"
     ]
    }
   ],
   "source": [
    "def encrypt(block, key):\n",
    "    exp_key = expandKey(key)\n",
    "    roundKey = createRoundKey(exp_key, 0)\n",
    "    addRoundKey(block, roundKey)\n",
    "    for i in range(1,14):\n",
    "        roundKey = createRoundKey(exp_key,i)\n",
    "        block = subBytes(block)\n",
    "        block = shift_rows(block)\n",
    "        block = mixColumns(block)\n",
    "        addRoundKey(block, roundKey)\n",
    "\n",
    "    roundKey = createRoundKey(exp_key, 14)\n",
    "    block = subBytes(block)\n",
    "    block = shift_rows(block)\n",
    "    addRoundKey(block, roundKey)\n",
    "\n",
    "    return block\n",
    "\n",
    "key = getKey(\"testKey\")\n",
    "\n",
    "block = getBlock(\"testBlock\")\n",
    "\n",
    "print(block)\n",
    "\n",
    "encryptedBlock = encrypt(block,key)\n",
    "\n",
    "print(encryptedBlock)"
   ]
  },
  {
   "cell_type": "code",
   "execution_count": 37,
   "metadata": {},
   "outputs": [
    {
     "name": "stdout",
     "output_type": "stream",
     "text": [
      "[0, 17, 34, 51, 68, 85, 102, 119, 136, 153, 170, 187, 204, 221, 238, 255]\n",
      "[142, 162, 183, 202, 81, 103, 69, 191, 234, 252, 73, 144, 75, 73, 96, 137]\n",
      "[0, 17, 34, 51, 68, 85, 102, 119, 136, 153, 170, 187, 204, 221, 238, 255]\n"
     ]
    }
   ],
   "source": [
    "def decrypt(block, key):\n",
    "    exp_key = expandKey(key)\n",
    "    roundKey = createRoundKey(exp_key,14)\n",
    "    addRoundKey(block, roundKey)\n",
    "    block = shift_rows_inv(block)\n",
    "    block = subBytesInv(block)\n",
    "    for i in range(13,0,-1):\n",
    "        roundKey = createRoundKey(exp_key,i)\n",
    "        addRoundKey(block, roundKey)\n",
    "        block = mixColumnsInv(block)\n",
    "        block = shift_rows_inv(block)\n",
    "        block = subBytesInv(block)\n",
    "\n",
    "    roundKey = createRoundKey(exp_key,0)\n",
    "    addRoundKey(block, roundKey)\n",
    "\n",
    "    return block\n",
    "\n",
    "key = getKey(\"testKey\")\n",
    "\n",
    "block = getBlock(\"testBlock\")\n",
    "\n",
    "print(block)\n",
    "\n",
    "encryptedBlock = encrypt(block,key)\n",
    "\n",
    "print(encryptedBlock)\n",
    "\n",
    "decryptedBlock = decrypt(encryptedBlock,key)\n",
    "\n",
    "print(decryptedBlock)"
   ]
  },
  {
   "cell_type": "code",
   "execution_count": 38,
   "metadata": {},
   "outputs": [],
   "source": [
    "key = getKey(\"testKey\")\n",
    "\n",
    "with open(\"tWotW.txt\", \"rb\") as test:\n",
    "    data_list = []  # Initialize an empty list to store the chunks\n",
    "        \n",
    "    while True:\n",
    "        chunk = test.read(16)  # Read 16 bytes at a time\n",
    "        \n",
    "        if not chunk:  # Check if the chunk is empty (end of file)\n",
    "            break\n",
    "\n",
    "        data = list(chunk)\n",
    "        while (len(data) != 16):\n",
    "            data.append(0)\n",
    "\n",
    "     \n",
    "        data_list.append(encrypt(data, key))\n",
    "    \n",
    "    with open(\"encryptedplaintext\", \"wb\") as out:\n",
    "        for x in data_list:\n",
    "            out.write(bytes(x))\n",
    "\n",
    "with open(\"encryptedplaintext\", \"rb\") as test:\n",
    "    data_list = [] \n",
    "        \n",
    "    while True:\n",
    "        chunk = test.read(16)  \n",
    "        \n",
    "        if not chunk:  \n",
    "            break\n",
    "\n",
    "        data = list(chunk)\n",
    "\n",
    "        data_list.append(decrypt(data, key))\n",
    "    \n",
    "    with open(\"decryptciphertext\", \"wb\") as out:\n",
    "        for x in data_list:\n",
    "            out.write(bytes(x))"
   ]
  }
 ],
 "metadata": {
  "kernelspec": {
   "display_name": "Python 3",
   "language": "python",
   "name": "python3"
  },
  "language_info": {
   "codemirror_mode": {
    "name": "ipython",
    "version": 3
   },
   "file_extension": ".py",
   "mimetype": "text/x-python",
   "name": "python",
   "nbconvert_exporter": "python",
   "pygments_lexer": "ipython3",
   "version": "3.11.2"
  },
  "orig_nbformat": 4
 },
 "nbformat": 4,
 "nbformat_minor": 2
}
